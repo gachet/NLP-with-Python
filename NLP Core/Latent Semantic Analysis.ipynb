{
 "cells": [
  {
   "cell_type": "code",
   "execution_count": 1,
   "metadata": {},
   "outputs": [
    {
     "name": "stderr",
     "output_type": "stream",
     "text": [
      "/Users/fran/anaconda2/envs/nltk/lib/python3.7/site-packages/sklearn/utils/__init__.py:4: DeprecationWarning: Using or importing the ABCs from 'collections' instead of from 'collections.abc' is deprecated, and in 3.8 it will stop working\n",
      "  from collections import Sequence\n"
     ]
    }
   ],
   "source": [
    "from sklearn.feature_extraction.text import TfidfVectorizer\n",
    "from sklearn.decomposition import TruncatedSVD"
   ]
  },
  {
   "cell_type": "markdown",
   "metadata": {},
   "source": [
    "### Sample Dataset"
   ]
  },
  {
   "cell_type": "code",
   "execution_count": 2,
   "metadata": {},
   "outputs": [],
   "source": [
    "dataset = [\"The amount of polution is increasing day by day\",\n",
    "           \"The concert was just great\",\n",
    "           \"I love to see Gordon Ramsay cook\",\n",
    "           \"Google is introducing a new technology\",\n",
    "           \"AI Robots are examples of great technology present today\",\n",
    "           \"All of us were singing in the concert\",\n",
    "           \"We have launch campaigns to stop pollution and global warming\"]"
   ]
  },
  {
   "cell_type": "markdown",
   "metadata": {},
   "source": [
    "Lower-casing the dataset"
   ]
  },
  {
   "cell_type": "code",
   "execution_count": 3,
   "metadata": {},
   "outputs": [],
   "source": [
    "dataset = [line.lower() for line in dataset]"
   ]
  },
  {
   "cell_type": "markdown",
   "metadata": {},
   "source": [
    "### Creating TF-IDF Model"
   ]
  },
  {
   "cell_type": "code",
   "execution_count": 20,
   "metadata": {},
   "outputs": [],
   "source": [
    "vectorizer = TfidfVectorizer()\n",
    "tfidf_matrix = vectorizer.fit_transform(dataset)"
   ]
  },
  {
   "cell_type": "code",
   "execution_count": 21,
   "metadata": {},
   "outputs": [
    {
     "data": {
      "text/plain": [
       "(7, 42)"
      ]
     },
     "execution_count": 21,
     "metadata": {},
     "output_type": "execute_result"
    }
   ],
   "source": [
    "tfidf_matrix.shape"
   ]
  },
  {
   "cell_type": "code",
   "execution_count": 43,
   "metadata": {},
   "outputs": [
    {
     "data": {
      "text/plain": [
       "['ai',\n",
       " 'all',\n",
       " 'amount',\n",
       " 'and',\n",
       " 'are',\n",
       " 'by',\n",
       " 'campaigns',\n",
       " 'concert',\n",
       " 'cook',\n",
       " 'day',\n",
       " 'examples',\n",
       " 'global',\n",
       " 'google',\n",
       " 'gordon',\n",
       " 'great',\n",
       " 'have',\n",
       " 'in',\n",
       " 'increasing',\n",
       " 'introducing',\n",
       " 'is',\n",
       " 'just',\n",
       " 'launch',\n",
       " 'love',\n",
       " 'new',\n",
       " 'of',\n",
       " 'pollution',\n",
       " 'polution',\n",
       " 'present',\n",
       " 'ramsay',\n",
       " 'robots',\n",
       " 'see',\n",
       " 'singing',\n",
       " 'stop',\n",
       " 'technology',\n",
       " 'the',\n",
       " 'to',\n",
       " 'today',\n",
       " 'us',\n",
       " 'warming',\n",
       " 'was',\n",
       " 'we',\n",
       " 'were']"
      ]
     },
     "execution_count": 43,
     "metadata": {},
     "output_type": "execute_result"
    }
   ],
   "source": [
    "vectorizer.get_feature_names()"
   ]
  },
  {
   "cell_type": "code",
   "execution_count": 34,
   "metadata": {},
   "outputs": [
    {
     "data": {
      "text/plain": [
       "array([[0.        , 0.        , 0.3211484 , 0.        , 0.        ,\n",
       "        0.3211484 , 0.        , 0.        , 0.        , 0.64229679,\n",
       "        0.        , 0.        , 0.        , 0.        , 0.        ,\n",
       "        0.        , 0.        , 0.3211484 , 0.        , 0.26658075,\n",
       "        0.        , 0.        , 0.        , 0.        , 0.22786439,\n",
       "        0.        , 0.3211484 , 0.        , 0.        , 0.        ,\n",
       "        0.        , 0.        , 0.        , 0.        , 0.22786439,\n",
       "        0.        , 0.        , 0.        , 0.        , 0.        ,\n",
       "        0.        , 0.        ]])"
      ]
     },
     "execution_count": 34,
     "metadata": {},
     "output_type": "execute_result"
    }
   ],
   "source": [
    "tfidf_matrix[0].toarray()"
   ]
  },
  {
   "cell_type": "code",
   "execution_count": 35,
   "metadata": {},
   "outputs": [
    {
     "name": "stdout",
     "output_type": "stream",
     "text": [
      "  (0, 34)\t0.22786438777524437\n",
      "  (0, 2)\t0.3211483974289088\n",
      "  (0, 24)\t0.22786438777524437\n",
      "  (0, 26)\t0.3211483974289088\n",
      "  (0, 19)\t0.2665807498646048\n",
      "  (0, 17)\t0.3211483974289088\n",
      "  (0, 9)\t0.6422967948578177\n",
      "  (0, 5)\t0.3211483974289088\n"
     ]
    }
   ],
   "source": [
    "print(tfidf_matrix[0])"
   ]
  },
  {
   "cell_type": "markdown",
   "metadata": {},
   "source": [
    "### Creating the SVD"
   ]
  },
  {
   "cell_type": "code",
   "execution_count": 44,
   "metadata": {},
   "outputs": [
    {
     "data": {
      "text/plain": [
       "TruncatedSVD(algorithm='randomized', n_components=4, n_iter=100,\n",
       "       random_state=None, tol=0.0)"
      ]
     },
     "execution_count": 44,
     "metadata": {},
     "output_type": "execute_result"
    }
   ],
   "source": [
    "lsa = TruncatedSVD(n_components = 4, n_iter = 100) # n_components => number of concepts you wanna find in the data\n",
    "lsa.fit(tfidf_matrix)"
   ]
  },
  {
   "cell_type": "code",
   "execution_count": 46,
   "metadata": {},
   "outputs": [
    {
     "data": {
      "text/plain": [
       "(4, 42)"
      ]
     },
     "execution_count": 46,
     "metadata": {},
     "output_type": "execute_result"
    }
   ],
   "source": [
    "lsa.components_.shape"
   ]
  },
  {
   "cell_type": "code",
   "execution_count": 47,
   "metadata": {},
   "outputs": [
    {
     "data": {
      "text/plain": [
       "array([ 1.24191973e-01,  1.78240252e-01,  1.14460798e-01, -1.35434810e-16,\n",
       "        1.24191973e-01,  1.14460798e-01, -1.35434810e-16,  3.44988739e-01,\n",
       "       -2.19714842e-16,  2.28921595e-01,  1.24191973e-01, -1.35434810e-16,\n",
       "        9.72770950e-02, -2.19714842e-16,  3.00124026e-01, -1.35434810e-16,\n",
       "        1.78240252e-01,  1.14460798e-01,  9.72770950e-02,  1.75760635e-01,\n",
       "        2.37365829e-01, -1.35434810e-16, -2.19714842e-16,  9.72770950e-02,\n",
       "        2.95798061e-01, -1.35434810e-16,  1.14460798e-01,  1.24191973e-01,\n",
       "       -2.19714842e-16,  1.24191973e-01, -2.19714842e-16,  1.78240252e-01,\n",
       "       -1.35434810e-16,  1.83838346e-01,  3.76098295e-01, -2.94804711e-16,\n",
       "        1.24191973e-01,  1.78240252e-01, -1.35434810e-16,  2.37365829e-01,\n",
       "       -1.35434810e-16,  1.78240252e-01])"
      ]
     },
     "execution_count": 47,
     "metadata": {},
     "output_type": "execute_result"
    }
   ],
   "source": [
    "lsa.components_[0]"
   ]
  },
  {
   "cell_type": "markdown",
   "metadata": {},
   "source": [
    "### Visualizing the concepts"
   ]
  },
  {
   "cell_type": "code",
   "execution_count": 48,
   "metadata": {},
   "outputs": [],
   "source": [
    "import pandas as pd"
   ]
  },
  {
   "cell_type": "code",
   "execution_count": 56,
   "metadata": {},
   "outputs": [],
   "source": [
    "df = pd.DataFrame(lsa.components_, index=['Concept ' + str(i+1) for i in range(4)] , columns=vectorizer.get_feature_names())"
   ]
  },
  {
   "cell_type": "code",
   "execution_count": 57,
   "metadata": {},
   "outputs": [
    {
     "data": {
      "text/html": [
       "<div>\n",
       "<style scoped>\n",
       "    .dataframe tbody tr th:only-of-type {\n",
       "        vertical-align: middle;\n",
       "    }\n",
       "\n",
       "    .dataframe tbody tr th {\n",
       "        vertical-align: top;\n",
       "    }\n",
       "\n",
       "    .dataframe thead th {\n",
       "        text-align: right;\n",
       "    }\n",
       "</style>\n",
       "<table border=\"1\" class=\"dataframe\">\n",
       "  <thead>\n",
       "    <tr style=\"text-align: right;\">\n",
       "      <th></th>\n",
       "      <th>Concept 1</th>\n",
       "      <th>Concept 2</th>\n",
       "      <th>Concept 3</th>\n",
       "      <th>Concept 4</th>\n",
       "    </tr>\n",
       "  </thead>\n",
       "  <tbody>\n",
       "    <tr>\n",
       "      <th>ai</th>\n",
       "      <td>1.241920e-01</td>\n",
       "      <td>-2.570980e-15</td>\n",
       "      <td>1.138789e-01</td>\n",
       "      <td>-2.395087e-01</td>\n",
       "    </tr>\n",
       "    <tr>\n",
       "      <th>all</th>\n",
       "      <td>1.782403e-01</td>\n",
       "      <td>1.355582e-15</td>\n",
       "      <td>-1.444784e-01</td>\n",
       "      <td>5.644665e-02</td>\n",
       "    </tr>\n",
       "    <tr>\n",
       "      <th>amount</th>\n",
       "      <td>1.144608e-01</td>\n",
       "      <td>5.413112e-17</td>\n",
       "      <td>7.056216e-02</td>\n",
       "      <td>2.327134e-01</td>\n",
       "    </tr>\n",
       "    <tr>\n",
       "      <th>and</th>\n",
       "      <td>-1.354348e-16</td>\n",
       "      <td>2.173064e-01</td>\n",
       "      <td>1.747304e-15</td>\n",
       "      <td>-5.990493e-16</td>\n",
       "    </tr>\n",
       "    <tr>\n",
       "      <th>are</th>\n",
       "      <td>1.241920e-01</td>\n",
       "      <td>-2.512696e-15</td>\n",
       "      <td>1.138789e-01</td>\n",
       "      <td>-2.395087e-01</td>\n",
       "    </tr>\n",
       "    <tr>\n",
       "      <th>by</th>\n",
       "      <td>1.144608e-01</td>\n",
       "      <td>1.851502e-17</td>\n",
       "      <td>7.056216e-02</td>\n",
       "      <td>2.327134e-01</td>\n",
       "    </tr>\n",
       "    <tr>\n",
       "      <th>campaigns</th>\n",
       "      <td>-1.354348e-16</td>\n",
       "      <td>2.173064e-01</td>\n",
       "      <td>1.747304e-15</td>\n",
       "      <td>-7.655258e-16</td>\n",
       "    </tr>\n",
       "    <tr>\n",
       "      <th>concert</th>\n",
       "      <td>3.449887e-01</td>\n",
       "      <td>3.029444e-15</td>\n",
       "      <td>-2.665524e-01</td>\n",
       "      <td>-4.431029e-02</td>\n",
       "    </tr>\n",
       "    <tr>\n",
       "      <th>cook</th>\n",
       "      <td>-2.197148e-16</td>\n",
       "      <td>2.835917e-01</td>\n",
       "      <td>2.812912e-15</td>\n",
       "      <td>-1.132927e-15</td>\n",
       "    </tr>\n",
       "    <tr>\n",
       "      <th>day</th>\n",
       "      <td>2.289216e-01</td>\n",
       "      <td>3.703004e-17</td>\n",
       "      <td>1.411243e-01</td>\n",
       "      <td>4.654268e-01</td>\n",
       "    </tr>\n",
       "    <tr>\n",
       "      <th>examples</th>\n",
       "      <td>1.241920e-01</td>\n",
       "      <td>-2.512696e-15</td>\n",
       "      <td>1.138789e-01</td>\n",
       "      <td>-2.395087e-01</td>\n",
       "    </tr>\n",
       "    <tr>\n",
       "      <th>global</th>\n",
       "      <td>-1.354348e-16</td>\n",
       "      <td>2.173064e-01</td>\n",
       "      <td>1.747304e-15</td>\n",
       "      <td>-7.655258e-16</td>\n",
       "    </tr>\n",
       "    <tr>\n",
       "      <th>google</th>\n",
       "      <td>9.727709e-02</td>\n",
       "      <td>-2.159771e-15</td>\n",
       "      <td>3.413969e-01</td>\n",
       "      <td>2.345837e-02</td>\n",
       "    </tr>\n",
       "    <tr>\n",
       "      <th>gordon</th>\n",
       "      <td>-2.197148e-16</td>\n",
       "      <td>2.835917e-01</td>\n",
       "      <td>2.812912e-15</td>\n",
       "      <td>-1.132927e-15</td>\n",
       "    </tr>\n",
       "    <tr>\n",
       "      <th>great</th>\n",
       "      <td>3.001240e-01</td>\n",
       "      <td>-4.026182e-17</td>\n",
       "      <td>-5.209363e-02</td>\n",
       "      <td>-2.899787e-01</td>\n",
       "    </tr>\n",
       "    <tr>\n",
       "      <th>have</th>\n",
       "      <td>-1.354348e-16</td>\n",
       "      <td>2.173064e-01</td>\n",
       "      <td>1.747304e-15</td>\n",
       "      <td>-7.655258e-16</td>\n",
       "    </tr>\n",
       "    <tr>\n",
       "      <th>in</th>\n",
       "      <td>1.782403e-01</td>\n",
       "      <td>1.175186e-15</td>\n",
       "      <td>-1.444784e-01</td>\n",
       "      <td>5.644665e-02</td>\n",
       "    </tr>\n",
       "    <tr>\n",
       "      <th>increasing</th>\n",
       "      <td>1.144608e-01</td>\n",
       "      <td>1.851502e-17</td>\n",
       "      <td>7.056216e-02</td>\n",
       "      <td>2.327134e-01</td>\n",
       "    </tr>\n",
       "    <tr>\n",
       "      <th>introducing</th>\n",
       "      <td>9.727709e-02</td>\n",
       "      <td>-2.159771e-15</td>\n",
       "      <td>3.413969e-01</td>\n",
       "      <td>2.345837e-02</td>\n",
       "    </tr>\n",
       "    <tr>\n",
       "      <th>is</th>\n",
       "      <td>1.757606e-01</td>\n",
       "      <td>-1.757962e-15</td>\n",
       "      <td>3.419614e-01</td>\n",
       "      <td>2.126446e-01</td>\n",
       "    </tr>\n",
       "    <tr>\n",
       "      <th>just</th>\n",
       "      <td>2.373658e-01</td>\n",
       "      <td>2.446568e-15</td>\n",
       "      <td>-1.766358e-01</td>\n",
       "      <td>-1.098270e-01</td>\n",
       "    </tr>\n",
       "    <tr>\n",
       "      <th>launch</th>\n",
       "      <td>-1.354348e-16</td>\n",
       "      <td>2.173064e-01</td>\n",
       "      <td>1.747304e-15</td>\n",
       "      <td>-7.655258e-16</td>\n",
       "    </tr>\n",
       "    <tr>\n",
       "      <th>love</th>\n",
       "      <td>-2.197148e-16</td>\n",
       "      <td>2.835917e-01</td>\n",
       "      <td>2.812912e-15</td>\n",
       "      <td>-1.132927e-15</td>\n",
       "    </tr>\n",
       "    <tr>\n",
       "      <th>new</th>\n",
       "      <td>9.727709e-02</td>\n",
       "      <td>-2.159771e-15</td>\n",
       "      <td>3.413969e-01</td>\n",
       "      <td>2.345837e-02</td>\n",
       "    </tr>\n",
       "    <tr>\n",
       "      <th>of</th>\n",
       "      <td>2.957981e-01</td>\n",
       "      <td>-9.564527e-16</td>\n",
       "      <td>2.835471e-02</td>\n",
       "      <td>3.522909e-02</td>\n",
       "    </tr>\n",
       "    <tr>\n",
       "      <th>pollution</th>\n",
       "      <td>-1.354348e-16</td>\n",
       "      <td>2.173064e-01</td>\n",
       "      <td>1.747304e-15</td>\n",
       "      <td>-7.655258e-16</td>\n",
       "    </tr>\n",
       "    <tr>\n",
       "      <th>polution</th>\n",
       "      <td>1.144608e-01</td>\n",
       "      <td>1.851502e-17</td>\n",
       "      <td>7.056216e-02</td>\n",
       "      <td>2.327134e-01</td>\n",
       "    </tr>\n",
       "    <tr>\n",
       "      <th>present</th>\n",
       "      <td>1.241920e-01</td>\n",
       "      <td>-2.512696e-15</td>\n",
       "      <td>1.138789e-01</td>\n",
       "      <td>-2.395087e-01</td>\n",
       "    </tr>\n",
       "    <tr>\n",
       "      <th>ramsay</th>\n",
       "      <td>-2.197148e-16</td>\n",
       "      <td>2.835917e-01</td>\n",
       "      <td>2.812912e-15</td>\n",
       "      <td>-1.132927e-15</td>\n",
       "    </tr>\n",
       "    <tr>\n",
       "      <th>robots</th>\n",
       "      <td>1.241920e-01</td>\n",
       "      <td>-2.512696e-15</td>\n",
       "      <td>1.138789e-01</td>\n",
       "      <td>-2.395087e-01</td>\n",
       "    </tr>\n",
       "    <tr>\n",
       "      <th>see</th>\n",
       "      <td>-2.197148e-16</td>\n",
       "      <td>2.835917e-01</td>\n",
       "      <td>2.812912e-15</td>\n",
       "      <td>-1.132927e-15</td>\n",
       "    </tr>\n",
       "    <tr>\n",
       "      <th>singing</th>\n",
       "      <td>1.782403e-01</td>\n",
       "      <td>1.175186e-15</td>\n",
       "      <td>-1.444784e-01</td>\n",
       "      <td>5.644665e-02</td>\n",
       "    </tr>\n",
       "    <tr>\n",
       "      <th>stop</th>\n",
       "      <td>-1.354348e-16</td>\n",
       "      <td>2.173064e-01</td>\n",
       "      <td>1.747304e-15</td>\n",
       "      <td>-7.655258e-16</td>\n",
       "    </tr>\n",
       "    <tr>\n",
       "      <th>technology</th>\n",
       "      <td>1.838383e-01</td>\n",
       "      <td>-3.914624e-15</td>\n",
       "      <td>3.779181e-01</td>\n",
       "      <td>-1.793403e-01</td>\n",
       "    </tr>\n",
       "    <tr>\n",
       "      <th>the</th>\n",
       "      <td>3.760983e-01</td>\n",
       "      <td>2.577796e-15</td>\n",
       "      <td>-1.777742e-01</td>\n",
       "      <td>1.272421e-01</td>\n",
       "    </tr>\n",
       "    <tr>\n",
       "      <th>to</th>\n",
       "      <td>-2.948047e-16</td>\n",
       "      <td>4.157884e-01</td>\n",
       "      <td>3.861265e-15</td>\n",
       "      <td>-1.561943e-15</td>\n",
       "    </tr>\n",
       "    <tr>\n",
       "      <th>today</th>\n",
       "      <td>1.241920e-01</td>\n",
       "      <td>-2.512696e-15</td>\n",
       "      <td>1.138789e-01</td>\n",
       "      <td>-2.395087e-01</td>\n",
       "    </tr>\n",
       "    <tr>\n",
       "      <th>us</th>\n",
       "      <td>1.782403e-01</td>\n",
       "      <td>1.175186e-15</td>\n",
       "      <td>-1.444784e-01</td>\n",
       "      <td>5.644665e-02</td>\n",
       "    </tr>\n",
       "    <tr>\n",
       "      <th>warming</th>\n",
       "      <td>-1.354348e-16</td>\n",
       "      <td>2.173064e-01</td>\n",
       "      <td>1.747304e-15</td>\n",
       "      <td>-7.655258e-16</td>\n",
       "    </tr>\n",
       "    <tr>\n",
       "      <th>was</th>\n",
       "      <td>2.373658e-01</td>\n",
       "      <td>2.446568e-15</td>\n",
       "      <td>-1.766358e-01</td>\n",
       "      <td>-1.098270e-01</td>\n",
       "    </tr>\n",
       "    <tr>\n",
       "      <th>we</th>\n",
       "      <td>-1.354348e-16</td>\n",
       "      <td>2.173064e-01</td>\n",
       "      <td>1.747304e-15</td>\n",
       "      <td>-7.655258e-16</td>\n",
       "    </tr>\n",
       "    <tr>\n",
       "      <th>were</th>\n",
       "      <td>1.782403e-01</td>\n",
       "      <td>1.175186e-15</td>\n",
       "      <td>-1.444784e-01</td>\n",
       "      <td>5.644665e-02</td>\n",
       "    </tr>\n",
       "  </tbody>\n",
       "</table>\n",
       "</div>"
      ],
      "text/plain": [
       "                Concept 1     Concept 2     Concept 3     Concept 4\n",
       "ai           1.241920e-01 -2.570980e-15  1.138789e-01 -2.395087e-01\n",
       "all          1.782403e-01  1.355582e-15 -1.444784e-01  5.644665e-02\n",
       "amount       1.144608e-01  5.413112e-17  7.056216e-02  2.327134e-01\n",
       "and         -1.354348e-16  2.173064e-01  1.747304e-15 -5.990493e-16\n",
       "are          1.241920e-01 -2.512696e-15  1.138789e-01 -2.395087e-01\n",
       "by           1.144608e-01  1.851502e-17  7.056216e-02  2.327134e-01\n",
       "campaigns   -1.354348e-16  2.173064e-01  1.747304e-15 -7.655258e-16\n",
       "concert      3.449887e-01  3.029444e-15 -2.665524e-01 -4.431029e-02\n",
       "cook        -2.197148e-16  2.835917e-01  2.812912e-15 -1.132927e-15\n",
       "day          2.289216e-01  3.703004e-17  1.411243e-01  4.654268e-01\n",
       "examples     1.241920e-01 -2.512696e-15  1.138789e-01 -2.395087e-01\n",
       "global      -1.354348e-16  2.173064e-01  1.747304e-15 -7.655258e-16\n",
       "google       9.727709e-02 -2.159771e-15  3.413969e-01  2.345837e-02\n",
       "gordon      -2.197148e-16  2.835917e-01  2.812912e-15 -1.132927e-15\n",
       "great        3.001240e-01 -4.026182e-17 -5.209363e-02 -2.899787e-01\n",
       "have        -1.354348e-16  2.173064e-01  1.747304e-15 -7.655258e-16\n",
       "in           1.782403e-01  1.175186e-15 -1.444784e-01  5.644665e-02\n",
       "increasing   1.144608e-01  1.851502e-17  7.056216e-02  2.327134e-01\n",
       "introducing  9.727709e-02 -2.159771e-15  3.413969e-01  2.345837e-02\n",
       "is           1.757606e-01 -1.757962e-15  3.419614e-01  2.126446e-01\n",
       "just         2.373658e-01  2.446568e-15 -1.766358e-01 -1.098270e-01\n",
       "launch      -1.354348e-16  2.173064e-01  1.747304e-15 -7.655258e-16\n",
       "love        -2.197148e-16  2.835917e-01  2.812912e-15 -1.132927e-15\n",
       "new          9.727709e-02 -2.159771e-15  3.413969e-01  2.345837e-02\n",
       "of           2.957981e-01 -9.564527e-16  2.835471e-02  3.522909e-02\n",
       "pollution   -1.354348e-16  2.173064e-01  1.747304e-15 -7.655258e-16\n",
       "polution     1.144608e-01  1.851502e-17  7.056216e-02  2.327134e-01\n",
       "present      1.241920e-01 -2.512696e-15  1.138789e-01 -2.395087e-01\n",
       "ramsay      -2.197148e-16  2.835917e-01  2.812912e-15 -1.132927e-15\n",
       "robots       1.241920e-01 -2.512696e-15  1.138789e-01 -2.395087e-01\n",
       "see         -2.197148e-16  2.835917e-01  2.812912e-15 -1.132927e-15\n",
       "singing      1.782403e-01  1.175186e-15 -1.444784e-01  5.644665e-02\n",
       "stop        -1.354348e-16  2.173064e-01  1.747304e-15 -7.655258e-16\n",
       "technology   1.838383e-01 -3.914624e-15  3.779181e-01 -1.793403e-01\n",
       "the          3.760983e-01  2.577796e-15 -1.777742e-01  1.272421e-01\n",
       "to          -2.948047e-16  4.157884e-01  3.861265e-15 -1.561943e-15\n",
       "today        1.241920e-01 -2.512696e-15  1.138789e-01 -2.395087e-01\n",
       "us           1.782403e-01  1.175186e-15 -1.444784e-01  5.644665e-02\n",
       "warming     -1.354348e-16  2.173064e-01  1.747304e-15 -7.655258e-16\n",
       "was          2.373658e-01  2.446568e-15 -1.766358e-01 -1.098270e-01\n",
       "we          -1.354348e-16  2.173064e-01  1.747304e-15 -7.655258e-16\n",
       "were         1.782403e-01  1.175186e-15 -1.444784e-01  5.644665e-02"
      ]
     },
     "execution_count": 57,
     "metadata": {},
     "output_type": "execute_result"
    }
   ],
   "source": [
    "df.transpose()"
   ]
  },
  {
   "cell_type": "code",
   "execution_count": 64,
   "metadata": {},
   "outputs": [
    {
     "name": "stdout",
     "output_type": "stream",
     "text": [
      "\n",
      "Concept 1:\n",
      "('the', 0.37609829529263716)\n",
      "('concert', 0.34498873923306556)\n",
      "('great', 0.3001240258948739)\n",
      "('of', 0.29579806095266703)\n",
      "('just', 0.2373658292979119)\n",
      "('was', 0.2373658292979119)\n",
      "('day', 0.22892159541504514)\n",
      "('technology', 0.18383834567413462)\n",
      "('all', 0.17824025175628955)\n",
      "('in', 0.17824025175628955)\n",
      "\n",
      "Concept 2:\n",
      "('to', 0.4157884439670072)\n",
      "('cook', 0.2835916579351083)\n",
      "('gordon', 0.2835916579351083)\n",
      "('love', 0.2835916579351083)\n",
      "('ramsay', 0.2835916579351083)\n",
      "('see', 0.2835916579351083)\n",
      "('and', 0.2173064471129239)\n",
      "('campaigns', 0.2173064471129239)\n",
      "('global', 0.2173064471129239)\n",
      "('have', 0.2173064471129239)\n",
      "\n",
      "Concept 3:\n",
      "('technology', 0.3779180676714398)\n",
      "('is', 0.3419614380631986)\n",
      "('google', 0.3413969441909746)\n",
      "('introducing', 0.3413969441909746)\n",
      "('new', 0.3413969441909746)\n",
      "('day', 0.14112432680994738)\n",
      "('are', 0.11387892195373016)\n",
      "('examples', 0.11387892195373016)\n",
      "('present', 0.11387892195373016)\n",
      "('robots', 0.11387892195373016)\n",
      "\n",
      "Concept 4:\n",
      "('day', 0.46542676790411147)\n",
      "('amount', 0.23271338395205574)\n",
      "('by', 0.23271338395205574)\n",
      "('increasing', 0.23271338395205574)\n",
      "('polution', 0.23271338395205574)\n",
      "('is', 0.21264455202450033)\n",
      "('the', 0.12724213180694366)\n",
      "('all', 0.056446647527265234)\n",
      "('in', 0.05644664752726514)\n",
      "('singing', 0.05644664752726514)\n"
     ]
    }
   ],
   "source": [
    "terms = vectorizer.get_feature_names()\n",
    "\n",
    "# Word Concept Dictionary Creation\n",
    "concept_words = {}\n",
    "\n",
    "for i, comp in enumerate(lsa.components_):\n",
    "    componentTerms = zip(terms, comp)\n",
    "    sortedTerms = sorted(componentTerms, key=lambda x: x[1], reverse=True)\n",
    "    sortedTerms = sortedTerms[:10] # grabbing the first 10 elements\n",
    "    \n",
    "    print('\\nConcept ' + str(i+1) + ':')\n",
    "    concept_words[\"Concept \" + str(i+1)] = sortedTerms\n",
    "    \n",
    "    for term in sortedTerms:\n",
    "        print(term)"
   ]
  },
  {
   "cell_type": "markdown",
   "metadata": {},
   "source": [
    "### Sentence Concepts"
   ]
  },
  {
   "cell_type": "code",
   "execution_count": 69,
   "metadata": {},
   "outputs": [],
   "source": [
    "import nltk"
   ]
  },
  {
   "cell_type": "code",
   "execution_count": 85,
   "metadata": {},
   "outputs": [
    {
     "name": "stdout",
     "output_type": "stream",
     "text": [
      "\n",
      "Concept 1:\n",
      "\t- the amount of polution is increasing day by day => 1.1297395470753946\n",
      "\t- the concert was just great => 1.4959427190164005\n",
      "\t- i love to see gordon ramsay cook => 0\n",
      "\t- google is introducing a new technology => 0.18383834567413462\n",
      "\t- ai robots are examples of great technology present today => 0.7797604325216756\n",
      "\t- all of us were singing in the concert => 1.3733655989909488\n",
      "\t- we have launch campaigns to stop pollution and global warming => 0\n",
      "\n",
      "Concept 2:\n",
      "\t- the amount of polution is increasing day by day => 0\n",
      "\t- the concert was just great => 0\n",
      "\t- i love to see gordon ramsay cook => 1.8337467336425488\n",
      "\t- google is introducing a new technology => 0\n",
      "\t- ai robots are examples of great technology present today => 0\n",
      "\t- all of us were singing in the concert => 0\n",
      "\t- we have launch campaigns to stop pollution and global warming => 1.2850142324187028\n",
      "\n",
      "Concept 3:\n",
      "\t- the amount of polution is increasing day by day => 0.6242100916830934\n",
      "\t- the concert was just great => 0\n",
      "\t- i love to see gordon ramsay cook => 0\n",
      "\t- google is introducing a new technology => 1.7440703383075622\n",
      "\t- ai robots are examples of great technology present today => 0.8334337554863605\n",
      "\t- all of us were singing in the concert => 0\n",
      "\t- we have launch campaigns to stop pollution and global warming => 0\n",
      "\n",
      "Concept 4:\n",
      "\t- the amount of polution is increasing day by day => 2.20159375544789\n",
      "\t- the concert was just great => 0.12724213180694366\n",
      "\t- i love to see gordon ramsay cook => 0\n",
      "\t- google is introducing a new technology => 0.21264455202450033\n",
      "\t- ai robots are examples of great technology present today => 0\n",
      "\t- all of us were singing in the concert => 0.2965820743887392\n",
      "\t- we have launch campaigns to stop pollution and global warming => 0\n"
     ]
    }
   ],
   "source": [
    "for concept_key in concept_words.keys():\n",
    "    \n",
    "    print('\\n' + concept_key + ':')\n",
    "    \n",
    "    for sentence in dataset:\n",
    "        words = nltk.word_tokenize(sentence)\n",
    "        score = 0\n",
    "        for word in words:\n",
    "            for word_with_score in concept_words[concept_key]:\n",
    "                if word == word_with_score[0]:\n",
    "                    score += word_with_score[1]\n",
    "        \n",
    "        print('\\t- ' + sentence + ' => ' + str(score))"
   ]
  },
  {
   "cell_type": "markdown",
   "metadata": {},
   "source": []
  }
 ],
 "metadata": {
  "kernelspec": {
   "display_name": "Python 3",
   "language": "python",
   "name": "python3"
  },
  "language_info": {
   "codemirror_mode": {
    "name": "ipython",
    "version": 3
   },
   "file_extension": ".py",
   "mimetype": "text/x-python",
   "name": "python",
   "nbconvert_exporter": "python",
   "pygments_lexer": "ipython3",
   "version": "3.7.0"
  }
 },
 "nbformat": 4,
 "nbformat_minor": 2
}
