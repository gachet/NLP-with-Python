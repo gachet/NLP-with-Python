{
 "cells": [
  {
   "cell_type": "code",
   "execution_count": 1,
   "metadata": {},
   "outputs": [
    {
     "name": "stderr",
     "output_type": "stream",
     "text": [
      "/Users/fran/anaconda2/envs/nltk/lib/python3.7/site-packages/sklearn/utils/__init__.py:4: DeprecationWarning: Using or importing the ABCs from 'collections' instead of from 'collections.abc' is deprecated, and in 3.8 it will stop working\n",
      "  from collections import Sequence\n"
     ]
    }
   ],
   "source": [
    "from nltk.corpus import wordnet"
   ]
  },
  {
   "cell_type": "markdown",
   "metadata": {},
   "source": [
    "### List of synonyms and antonyms"
   ]
  },
  {
   "cell_type": "code",
   "execution_count": 2,
   "metadata": {},
   "outputs": [],
   "source": [
    "synonyms = []\n",
    "antonyms = []"
   ]
  },
  {
   "cell_type": "code",
   "execution_count": 4,
   "metadata": {},
   "outputs": [],
   "source": [
    "word = 'good'"
   ]
  },
  {
   "cell_type": "code",
   "execution_count": 5,
   "metadata": {},
   "outputs": [],
   "source": [
    "for syn in wordnet.synsets(word):\n",
    "    for s in syn.lemmas():\n",
    "        synonyms.append(s.name())\n",
    "        for a in s.antonyms():\n",
    "            antonyms.append(a.name())"
   ]
  },
  {
   "cell_type": "markdown",
   "metadata": {},
   "source": [
    "### Synonyms for \"good\""
   ]
  },
  {
   "cell_type": "code",
   "execution_count": 9,
   "metadata": {},
   "outputs": [
    {
     "data": {
      "text/plain": [
       "{'adept',\n",
       " 'beneficial',\n",
       " 'commodity',\n",
       " 'dear',\n",
       " 'dependable',\n",
       " 'effective',\n",
       " 'estimable',\n",
       " 'expert',\n",
       " 'full',\n",
       " 'good',\n",
       " 'goodness',\n",
       " 'honest',\n",
       " 'honorable',\n",
       " 'in_effect',\n",
       " 'in_force',\n",
       " 'just',\n",
       " 'near',\n",
       " 'practiced',\n",
       " 'proficient',\n",
       " 'respectable',\n",
       " 'right',\n",
       " 'ripe',\n",
       " 'safe',\n",
       " 'salutary',\n",
       " 'secure',\n",
       " 'serious',\n",
       " 'skilful',\n",
       " 'skillful',\n",
       " 'sound',\n",
       " 'soundly',\n",
       " 'thoroughly',\n",
       " 'trade_good',\n",
       " 'undecomposed',\n",
       " 'unspoiled',\n",
       " 'unspoilt',\n",
       " 'upright',\n",
       " 'well'}"
      ]
     },
     "execution_count": 9,
     "metadata": {},
     "output_type": "execute_result"
    }
   ],
   "source": [
    "set(synonyms)"
   ]
  },
  {
   "cell_type": "markdown",
   "metadata": {},
   "source": [
    "### Antonyms for \"good\""
   ]
  },
  {
   "cell_type": "code",
   "execution_count": 10,
   "metadata": {},
   "outputs": [
    {
     "data": {
      "text/plain": [
       "{'bad', 'badness', 'evil', 'evilness', 'ill'}"
      ]
     },
     "execution_count": 10,
     "metadata": {},
     "output_type": "execute_result"
    }
   ],
   "source": [
    "set(antonyms)"
   ]
  },
  {
   "cell_type": "code",
   "execution_count": null,
   "metadata": {},
   "outputs": [],
   "source": []
  }
 ],
 "metadata": {
  "kernelspec": {
   "display_name": "Python 3",
   "language": "python",
   "name": "python3"
  },
  "language_info": {
   "codemirror_mode": {
    "name": "ipython",
    "version": 3
   },
   "file_extension": ".py",
   "mimetype": "text/x-python",
   "name": "python",
   "nbconvert_exporter": "python",
   "pygments_lexer": "ipython3",
   "version": "3.7.0"
  }
 },
 "nbformat": 4,
 "nbformat_minor": 2
}
