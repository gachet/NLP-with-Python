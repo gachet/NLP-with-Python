{
 "cells": [
  {
   "cell_type": "code",
   "execution_count": 1,
   "metadata": {},
   "outputs": [],
   "source": [
    "import nltk\n",
    "import urllib\n",
    "import bs4 as bs\n",
    "from gensim.models import Word2Vec"
   ]
  },
  {
   "cell_type": "markdown",
   "metadata": {},
   "source": [
    "### Pulling in a wikipedia article to analyse"
   ]
  },
  {
   "cell_type": "code",
   "execution_count": 2,
   "metadata": {},
   "outputs": [],
   "source": [
    "source = urllib.request.urlopen('https://en.wikipedia.org/wiki/Global_warming').read()"
   ]
  },
  {
   "cell_type": "markdown",
   "metadata": {},
   "source": [
    "### Parsing the data/ creating BeautifulSoup object"
   ]
  },
  {
   "cell_type": "code",
   "execution_count": 3,
   "metadata": {},
   "outputs": [],
   "source": [
    "soup = bs.BeautifulSoup(source,'lxml')"
   ]
  },
  {
   "cell_type": "markdown",
   "metadata": {},
   "source": [
    "### Preprocessing the data"
   ]
  },
  {
   "cell_type": "code",
   "execution_count": 4,
   "metadata": {},
   "outputs": [],
   "source": [
    "from functools import reduce\n",
    "import re\n",
    "from nltk.corpus import stopwords"
   ]
  },
  {
   "cell_type": "code",
   "execution_count": 11,
   "metadata": {},
   "outputs": [],
   "source": [
    "text = reduce(lambda text, paragraph: text + paragraph.text, \n",
    "              soup.find_all('p'), \n",
    "              '')"
   ]
  },
  {
   "cell_type": "code",
   "execution_count": 12,
   "metadata": {},
   "outputs": [],
   "source": [
    "text = text.lower()\n",
    "text = re.sub(r'\\[[0-9]*\\]', ' ', text) # removes [number]\n",
    "text = re.sub(r'[\\(\\)\\[\\]\\{|\\}\\<|\\>\\*\\+\\-\\'@#%&,;:!?=`\"]', ' ', text) # removes puntuation except dots\n",
    "text = re.sub(r'\\d', ' ', text) # removes numbers\n",
    "text = re.sub(r'\\s+', ' ', text) # removes extra spaces\n",
    "text = re.sub(r\"'s\", ' is', text)\n",
    "text = re.sub(r\"'re\", ' are', text)\n",
    "text = re.sub(r\"won't\", 'will not', text)"
   ]
  },
  {
   "cell_type": "markdown",
   "metadata": {},
   "source": [
    "### Preparing the dataset and removing stopwords"
   ]
  },
  {
   "cell_type": "code",
   "execution_count": 13,
   "metadata": {},
   "outputs": [],
   "source": [
    "sentences = [nltk.word_tokenize(sentence) for sentence in nltk.sent_tokenize(text)]\n",
    "\n",
    "for i in range(len(sentences)):\n",
    "    sentences[i] = \\\n",
    "        [word for word in sentences[i] if word not in stopwords.words('english')]"
   ]
  },
  {
   "cell_type": "markdown",
   "metadata": {},
   "source": [
    "### Training the Word2Vec model"
   ]
  },
  {
   "cell_type": "code",
   "execution_count": 14,
   "metadata": {},
   "outputs": [],
   "source": [
    "model = Word2Vec(sentences, min_count=1)"
   ]
  },
  {
   "cell_type": "markdown",
   "metadata": {},
   "source": [
    "### Finding Word Vectors and similars"
   ]
  },
  {
   "cell_type": "code",
   "execution_count": 15,
   "metadata": {},
   "outputs": [
    {
     "data": {
      "text/plain": [
       "array([-7.4098203e-03, -4.1346266e-03, -1.6169812e-03,  8.9467637e-04,\n",
       "        3.5840755e-03,  4.9035517e-03, -4.6747611e-03,  6.2784663e-04,\n",
       "        4.1934382e-03, -4.5940764e-03, -4.3141283e-03,  4.1263504e-03,\n",
       "       -6.4010252e-05, -1.9118217e-04, -3.5028839e-03,  3.3158951e-03,\n",
       "       -2.3725651e-04, -5.4052059e-04,  4.5400675e-04,  4.8665907e-03,\n",
       "        1.5086887e-03,  1.2235566e-03,  5.9111531e-05,  4.8548309e-03,\n",
       "       -3.2006437e-03,  2.0776337e-03,  3.4812717e-03,  5.2382457e-03,\n",
       "        6.8374993e-03,  3.8444886e-03,  2.1106100e-03,  3.6832080e-03,\n",
       "        6.3533648e-03,  1.2515329e-05,  3.3861450e-03, -4.7877529e-03,\n",
       "        1.3543242e-04,  7.5833914e-03, -5.1302514e-03,  5.7997219e-03,\n",
       "       -4.8654522e-03, -2.0872043e-03,  2.1366104e-03, -6.4219086e-04,\n",
       "        1.3138225e-03,  5.9242328e-03, -3.1133760e-03, -4.6584983e-03,\n",
       "        4.0514546e-04, -5.4671182e-03,  6.7492807e-03, -2.4109746e-03,\n",
       "        4.2333622e-03,  5.0360560e-03, -5.8572604e-03, -2.7994041e-03,\n",
       "        2.6053190e-03, -3.9105103e-03, -2.3475299e-03, -4.6523818e-04,\n",
       "        4.9626864e-03, -2.0843006e-03, -1.6600897e-03,  1.7854049e-05,\n",
       "       -1.9100510e-03,  4.5393598e-03,  5.1270104e-03,  2.8360288e-03,\n",
       "       -1.2547122e-03, -7.4466253e-03,  3.3613127e-03, -8.4317842e-04,\n",
       "        3.5266473e-03,  2.5159435e-03,  3.0679704e-04,  7.4818573e-04,\n",
       "       -4.0197405e-03, -3.8038180e-03, -1.7332528e-03,  3.8198754e-03,\n",
       "       -2.9215203e-03,  2.6829226e-03,  3.4594681e-04, -1.3404871e-04,\n",
       "       -5.7808836e-03, -5.2459707e-04, -3.6078650e-03,  3.1554336e-03,\n",
       "        4.5030282e-04,  5.0428999e-03,  4.1728783e-03, -7.1515604e-03,\n",
       "        3.5717105e-03,  1.4750947e-03,  2.8505551e-03, -2.9275732e-03,\n",
       "       -2.8529242e-03,  4.8768208e-03, -4.2915708e-04, -1.6435487e-03],\n",
       "      dtype=float32)"
      ]
     },
     "execution_count": 15,
     "metadata": {},
     "output_type": "execute_result"
    }
   ],
   "source": [
    "model.wv['warming']"
   ]
  },
  {
   "cell_type": "code",
   "execution_count": 16,
   "metadata": {},
   "outputs": [
    {
     "data": {
      "text/plain": [
       "[('rising', 0.4035898447036743),\n",
       " ('energy', 0.38041236996650696),\n",
       " ('global', 0.37321072816848755),\n",
       " ('would', 0.36459946632385254),\n",
       " ('change', 0.3640798032283783),\n",
       " ('climate', 0.3638940453529358),\n",
       " ('chemical', 0.3402023911476135),\n",
       " ('greenhouse', 0.3310290277004242),\n",
       " ('including', 0.32724010944366455),\n",
       " ('pre', 0.3223811984062195)]"
      ]
     },
     "execution_count": 16,
     "metadata": {},
     "output_type": "execute_result"
    }
   ],
   "source": [
    "model.wv.most_similar('warming')"
   ]
  }
 ],
 "metadata": {
  "kernelspec": {
   "display_name": "Python 3",
   "language": "python",
   "name": "python3"
  },
  "language_info": {
   "codemirror_mode": {
    "name": "ipython",
    "version": 3
   },
   "file_extension": ".py",
   "mimetype": "text/x-python",
   "name": "python",
   "nbconvert_exporter": "python",
   "pygments_lexer": "ipython3",
   "version": "3.6.6"
  }
 },
 "nbformat": 4,
 "nbformat_minor": 2
}
