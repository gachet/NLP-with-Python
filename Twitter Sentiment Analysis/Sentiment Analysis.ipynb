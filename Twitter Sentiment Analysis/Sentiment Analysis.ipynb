{
 "cells": [
  {
   "cell_type": "code",
   "execution_count": 11,
   "metadata": {},
   "outputs": [],
   "source": [
    "import tweepy\n",
    "import re\n",
    "import pickle"
   ]
  },
  {
   "cell_type": "code",
   "execution_count": 2,
   "metadata": {},
   "outputs": [],
   "source": [
    "from tweepy import OAuthHandler"
   ]
  },
  {
   "cell_type": "markdown",
   "metadata": {},
   "source": [
    "### Consumer keys and Access tokens"
   ]
  },
  {
   "cell_type": "code",
   "execution_count": 3,
   "metadata": {},
   "outputs": [],
   "source": [
    "consumer_key = 'P6sRrb1eHNEeEIPHQ02imHjnN'\n",
    "consumer_secret = 'Py5vtTRUbSrVHrodGn5g94dEiM9z4LWEjllejrOBc9qbVpzCFo' \n",
    "access_token = '66961045-mpF2RMo3Q2Ux94G1XEtOulMF7esYmFQyTEmbmUUyI'\n",
    "access_secret ='J7l2WYLTP5o30sFCDdySJZfCZ2pWTivnSDuVaZtNSvNZ7'"
   ]
  },
  {
   "cell_type": "markdown",
   "metadata": {},
   "source": [
    "### Authenticating the client against Twitter server"
   ]
  },
  {
   "cell_type": "code",
   "execution_count": 4,
   "metadata": {},
   "outputs": [],
   "source": [
    "auth = OAuthHandler(consumer_key, consumer_secret)"
   ]
  },
  {
   "cell_type": "code",
   "execution_count": 5,
   "metadata": {},
   "outputs": [],
   "source": [
    "auth.set_access_token(access_token, access_secret)"
   ]
  },
  {
   "cell_type": "code",
   "execution_count": 6,
   "metadata": {},
   "outputs": [],
   "source": [
    "api = tweepy.API(auth)"
   ]
  },
  {
   "cell_type": "markdown",
   "metadata": {},
   "source": [
    "### Fetching tweets"
   ]
  },
  {
   "cell_type": "code",
   "execution_count": 13,
   "metadata": {},
   "outputs": [],
   "source": [
    "query = 'trump'"
   ]
  },
  {
   "cell_type": "code",
   "execution_count": 15,
   "metadata": {},
   "outputs": [],
   "source": [
    "list_tweets = list(map(\n",
    "    lambda item: item.text,\n",
    "    tweepy.Cursor(api.search, \n",
    "                 q=query + ' -filter:retweets', \n",
    "                 lang='en', \n",
    "                 result_type='recent').items(100)\n",
    "))"
   ]
  },
  {
   "cell_type": "code",
   "execution_count": 17,
   "metadata": {},
   "outputs": [
    {
     "data": {
      "text/plain": [
       "['@MBjorklund1963 @VicLovesAnimals @realDonaldTrump @alexonthebayou @Education4Libs @ScottPresler @rsienkiewicz… https://t.co/A8X47FL6wC',\n",
       " '@realDonaldTrump @MariaBartiromo Guessing Maria got her law degree from Trump University.',\n",
       " \"Omarosa Claims Trump Repeatedly Used 'N-Word' During 'The Apprentice' https://t.co/z8g4ucGpfH\",\n",
       " '@EdKrassen Lol and Kelly Anne chooses the trump coolaid over her family just  like Cruz. Deplorable',\n",
       " '@Books_Anon @vachilly64 @trevor_aselton Trump’s star was like, “You’re gonna be sorry when my friends get here!”',\n",
       " \"President Trump's tariffs may help this major Space Coast industry --&gt; https://t.co/uuxw1RjFPc https://t.co/RDPIpnNZCf\",\n",
       " \"India's Trump Card: Why inviting the US President to Republic Day is a good idea https://t.co/D5BBpp0Fw9 @avatans Kumar via @dailyo_\",\n",
       " 'Russia investigation Ex Trump Aide Roger Stones Ally Randy Credico to be subpoenaed in Mueller Probe. Credico is al… https://t.co/mLQiwS0Qde',\n",
       " 'It was only a matter of time. Needless to say, this article is full of his epithets. https://t.co/xuQFxc7yCb',\n",
       " '@Banana_Land13 @JeweledStrokes @SheilaDRead @mmfa @Dictionarycom Once again, Duck, you’re “projecting”.  Donald Tru… https://t.co/g0HRu3wtN0']"
      ]
     },
     "execution_count": 17,
     "metadata": {},
     "output_type": "execute_result"
    }
   ],
   "source": [
    "list_tweets[:10]"
   ]
  },
  {
   "cell_type": "markdown",
   "metadata": {},
   "source": [
    "### Loading the vectorizer and classfier"
   ]
  },
  {
   "cell_type": "code",
   "execution_count": 18,
   "metadata": {},
   "outputs": [],
   "source": [
    "with open('../Text Classification/classifier.pickle','rb') as f:\n",
    "    classifier = pickle.load(f)\n",
    "    \n",
    "with open('../Text Classification/tfidfmodel.pickle','rb') as f:\n",
    "    model = pickle.load(f)"
   ]
  },
  {
   "cell_type": "markdown",
   "metadata": {},
   "source": [
    "### Sanitizing the tweets"
   ]
  },
  {
   "cell_type": "code",
   "execution_count": 35,
   "metadata": {},
   "outputs": [],
   "source": [
    "def sanitizingTweets(tweet):\n",
    "    tweet = tweet.lower() # to lower case\n",
    "    tweet = re.sub(r'^https://t.co/[a-zA-Z0-9]+\\s', ' ', tweet) # removes all the links at the beginning\n",
    "    tweet = re.sub(r'https://t.co/[a-zA-Z0-9]+\\s', ' ', tweet) # removes all the links\n",
    "    tweet = re.sub(r'https://t.co/[a-zA-Z0-9]+$', ' ', tweet) # removes all the links at the end\n",
    "    tweet = re.sub(r'\\W', ' ', str(tweet)) # removes all the non-word characters\n",
    "    tweet = re.sub(r'^[a-z]\\s', ' ',tweet) # removes all the single characters at the beginning\n",
    "    tweet = re.sub(r'\\s[a-z]\\s', ' ',tweet) # removes all the single characters\n",
    "    tweet = re.sub(r'\\s[a-z]$', ' ',tweet) # removes all the single characters at the end\n",
    "    tweet = re.sub(r'\\s+', ' ', tweet) # removes all the extra spaces\n",
    "    tweet = re.sub(r\"'s'\", ' is', tweet) # he's => he is\n",
    "    tweet = re.sub(r\"'re'\", ' are', tweet) # they're => they are\n",
    "    tweet = re.sub(r\"won't\", 'will not', tweet)\n",
    "    tweet = re.sub(r\"n't\", ' not', tweet) # don't => do not\n",
    "    tweet = tweet.strip()\n",
    "    return tweet"
   ]
  },
  {
   "cell_type": "code",
   "execution_count": 36,
   "metadata": {},
   "outputs": [],
   "source": [
    "sanitized_tweets = list(map(sanitizingTweets, list_tweets))"
   ]
  },
  {
   "cell_type": "code",
   "execution_count": 37,
   "metadata": {},
   "outputs": [
    {
     "data": {
      "text/plain": [
       "['mbjorklund1963 viclovesanimals realdonaldtrump alexonthebayou education4libs scottpresler rsienkiewicz',\n",
       " 'realdonaldtrump mariabartiromo guessing maria got her law degree from trump university',\n",
       " 'omarosa claims trump repeatedly used word during the apprentice',\n",
       " 'edkrassen lol and kelly anne chooses the trump coolaid over her family just like cruz deplorable',\n",
       " 'books_anon vachilly64 trevor_aselton trump star was like you re gonna be sorry when my friends get here',\n",
       " 'president trump tariffs may help this major space coast industry gt',\n",
       " 'india trump card why inviting the us president to republic day is good idea avatans kumar via dailyo_',\n",
       " 'russia investigation ex trump aide roger stones ally randy credico to be subpoenaed in mueller probe credico is al',\n",
       " 'it was only matter of time needless to say this article is full of his epithets',\n",
       " 'banana_land13 jeweledstrokes sheiladread mmfa dictionarycom once again duck you re projecting donald tru']"
      ]
     },
     "execution_count": 37,
     "metadata": {},
     "output_type": "execute_result"
    }
   ],
   "source": [
    "sanitized_tweets[:10]"
   ]
  },
  {
   "cell_type": "code",
   "execution_count": null,
   "metadata": {},
   "outputs": [],
   "source": []
  }
 ],
 "metadata": {
  "kernelspec": {
   "display_name": "Python 3",
   "language": "python",
   "name": "python3"
  },
  "language_info": {
   "codemirror_mode": {
    "name": "ipython",
    "version": 3
   },
   "file_extension": ".py",
   "mimetype": "text/x-python",
   "name": "python",
   "nbconvert_exporter": "python",
   "pygments_lexer": "ipython3",
   "version": "3.6.6"
  }
 },
 "nbformat": 4,
 "nbformat_minor": 2
}
