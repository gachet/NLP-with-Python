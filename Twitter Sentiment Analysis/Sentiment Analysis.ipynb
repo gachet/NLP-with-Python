{
 "cells": [
  {
   "cell_type": "code",
   "execution_count": 1,
   "metadata": {},
   "outputs": [
    {
     "name": "stderr",
     "output_type": "stream",
     "text": [
      "/Users/fran/anaconda2/envs/nltk/lib/python3.6/importlib/_bootstrap.py:219: RuntimeWarning: numpy.dtype size changed, may indicate binary incompatibility. Expected 96, got 88\n",
      "  return f(*args, **kwds)\n",
      "/Users/fran/anaconda2/envs/nltk/lib/python3.6/importlib/_bootstrap.py:219: RuntimeWarning: numpy.dtype size changed, may indicate binary incompatibility. Expected 96, got 88\n",
      "  return f(*args, **kwds)\n"
     ]
    }
   ],
   "source": [
    "import tweepy\n",
    "import numpy as np\n",
    "import pandas as pd\n",
    "import matplotlib.pyplot as plt\n",
    "import re\n",
    "import pickle\n",
    "import nltk\n",
    "from nltk.corpus import stopwords\n",
    "from sklearn.feature_extraction.text import TfidfVectorizer\n",
    "from sklearn.linear_model import LogisticRegression"
   ]
  },
  {
   "cell_type": "code",
   "execution_count": 2,
   "metadata": {},
   "outputs": [],
   "source": [
    "from tweepy import OAuthHandler"
   ]
  },
  {
   "cell_type": "markdown",
   "metadata": {},
   "source": [
    "### Consumer keys and Access tokens"
   ]
  },
  {
   "cell_type": "code",
   "execution_count": 3,
   "metadata": {},
   "outputs": [],
   "source": [
    "consumer_key = 'P6sRrb1eHNEeEIPHQ02imHjnN'\n",
    "consumer_secret = 'Py5vtTRUbSrVHrodGn5g94dEiM9z4LWEjllejrOBc9qbVpzCFo' \n",
    "access_token = '66961045-mpF2RMo3Q2Ux94G1XEtOulMF7esYmFQyTEmbmUUyI'\n",
    "access_secret ='J7l2WYLTP5o30sFCDdySJZfCZ2pWTivnSDuVaZtNSvNZ7'"
   ]
  },
  {
   "cell_type": "markdown",
   "metadata": {},
   "source": [
    "### Authenticating the client against Twitter server"
   ]
  },
  {
   "cell_type": "code",
   "execution_count": 4,
   "metadata": {},
   "outputs": [],
   "source": [
    "auth = OAuthHandler(consumer_key, consumer_secret)"
   ]
  },
  {
   "cell_type": "code",
   "execution_count": 5,
   "metadata": {},
   "outputs": [],
   "source": [
    "auth.set_access_token(access_token, access_secret)"
   ]
  },
  {
   "cell_type": "code",
   "execution_count": 6,
   "metadata": {},
   "outputs": [],
   "source": [
    "api = tweepy.API(auth)"
   ]
  },
  {
   "cell_type": "markdown",
   "metadata": {},
   "source": [
    "### Fetching tweets"
   ]
  },
  {
   "cell_type": "code",
   "execution_count": 7,
   "metadata": {},
   "outputs": [],
   "source": [
    "query = 'Trump'"
   ]
  },
  {
   "cell_type": "code",
   "execution_count": 8,
   "metadata": {},
   "outputs": [],
   "source": [
    "list_tweets = list(map(\n",
    "    lambda item: item.text,\n",
    "    tweepy.Cursor(api.search, \n",
    "                 q=query + ' -filter:retweets', \n",
    "                 lang='en', \n",
    "                 result_type='recent').items(200)\n",
    "))"
   ]
  },
  {
   "cell_type": "code",
   "execution_count": 9,
   "metadata": {},
   "outputs": [
    {
     "data": {
      "text/plain": [
       "['@michaelmalice trump should just post his next tweet on gab',\n",
       " '@Alasdair_Lord There is suggestion that it had to play out this way because there are much bigger players than Trum… https://t.co/Cr38UAZnJx',\n",
       " 'Your just a stupid idiot Trump sucker. https://t.co/3UXTBnuy6R',\n",
       " '\"Free, Independent\" Boston Paper Urges Collusive National Media \\'War\\' Against #Trump    \\n\\nhttps://t.co/6nybVkClzQ',\n",
       " '@thehill America is sick of the culture of lies and corruption from Trump and conservatives.',\n",
       " \"@DeniseHilker @KingNatalieking @Heyloa_ @mtenorio77 @ACTBrigitte @WalshFreedom Yes, ofcourse. And that wasn't the b… https://t.co/yZwfILCHyU\",\n",
       " '@joanne48640679 @Shaun_Girk @AllieB1118 @us_poll @GhostOfTick @hrt6017 @KJ54290723 @aleeyun_nvaazun @DeanoMartino1… https://t.co/1c1ikK2hfV',\n",
       " '@TRNewsX This can be solved if Erdoğan agrees to marry Trump.',\n",
       " \"@AJLoCascio @Voltron IT'S LOTOR BUT TRUMP TURNED HIM\",\n",
       " 'YES, and stop talking all Trump and speculation about pending issues/opinions.  Every news hour starts with Trump a… https://t.co/3zYVXGN7Ks']"
      ]
     },
     "execution_count": 9,
     "metadata": {},
     "output_type": "execute_result"
    }
   ],
   "source": [
    "list_tweets[:10]"
   ]
  },
  {
   "cell_type": "markdown",
   "metadata": {},
   "source": [
    "### Loading the vectorizer and classfier"
   ]
  },
  {
   "cell_type": "code",
   "execution_count": 10,
   "metadata": {},
   "outputs": [],
   "source": [
    "with open('../Text Classification/classifier.pickle','rb') as f:\n",
    "    classifier = pickle.load(f)\n",
    "    \n",
    "with open('../Text Classification/tfidfmodel.pickle','rb') as f:\n",
    "    model = pickle.load(f)"
   ]
  },
  {
   "cell_type": "markdown",
   "metadata": {},
   "source": [
    "### Sanitizing the tweets"
   ]
  },
  {
   "cell_type": "code",
   "execution_count": 11,
   "metadata": {},
   "outputs": [],
   "source": [
    "def sanitizingTweets(tweet):\n",
    "    tweet = tweet.lower() # to lower case\n",
    "    tweet = re.sub(r'^https://t.co/[a-zA-Z0-9]+\\s', ' ', tweet) # removes all the links at the beginning\n",
    "    tweet = re.sub(r'https://t.co/[a-zA-Z0-9]+\\s', ' ', tweet) # removes all the links\n",
    "    tweet = re.sub(r'https://t.co/[a-zA-Z0-9]+$', ' ', tweet) # removes all the links at the end\n",
    "    tweet = re.sub(r'\\W', ' ', str(tweet)) # removes all the non-word characters\n",
    "    tweet = re.sub(r'^[a-z]\\s', ' ',tweet) # removes all the single characters at the beginning\n",
    "    tweet = re.sub(r'\\s[a-z]\\s', ' ',tweet) # removes all the single characters\n",
    "    tweet = re.sub(r'\\s[a-z]$', ' ',tweet) # removes all the single characters at the end\n",
    "    tweet = re.sub(r'\\s+', ' ', tweet) # removes all the extra spaces\n",
    "    tweet = re.sub(r\"'s'\", ' is', tweet) # he's => he is\n",
    "    tweet = re.sub(r\"'re'\", ' are', tweet) # they're => they are\n",
    "    tweet = re.sub(r\"won't\", 'will not', tweet)\n",
    "    tweet = re.sub(r\"n't\", ' not', tweet) # don't => do not\n",
    "    tweet = tweet.strip()\n",
    "    return tweet"
   ]
  },
  {
   "cell_type": "code",
   "execution_count": 12,
   "metadata": {},
   "outputs": [],
   "source": [
    "sanitized_tweets = list(map(sanitizingTweets, list_tweets))"
   ]
  },
  {
   "cell_type": "code",
   "execution_count": 13,
   "metadata": {},
   "outputs": [
    {
     "data": {
      "text/plain": [
       "['michaelmalice trump should just post his next tweet on gab',\n",
       " 'alasdair_lord there is suggestion that it had to play out this way because there are much bigger players than trum',\n",
       " 'your just stupid idiot trump sucker',\n",
       " 'free independent boston paper urges collusive national media war against trump',\n",
       " 'thehill america is sick of the culture of lies and corruption from trump and conservatives',\n",
       " 'denisehilker kingnatalieking heyloa_ mtenorio77 actbrigitte walshfreedom yes ofcourse and that wasn the',\n",
       " 'joanne48640679 shaun_girk allieb1118 us_poll ghostoftick hrt6017 kj54290723 aleeyun_nvaazun deanomartino1',\n",
       " 'trnewsx this can be solved if erdoğan agrees to marry trump',\n",
       " 'ajlocascio voltron it lotor but trump turned him',\n",
       " 'yes and stop talking all trump and speculation about pending issues opinions every news hour starts with trump']"
      ]
     },
     "execution_count": 13,
     "metadata": {},
     "output_type": "execute_result"
    }
   ],
   "source": [
    "sanitized_tweets[:10]"
   ]
  },
  {
   "cell_type": "markdown",
   "metadata": {},
   "source": [
    "### Let's plot the results"
   ]
  },
  {
   "cell_type": "code",
   "execution_count": 14,
   "metadata": {},
   "outputs": [],
   "source": [
    "X = model.transform(sanitized_tweets).toarray()"
   ]
  },
  {
   "cell_type": "code",
   "execution_count": 15,
   "metadata": {},
   "outputs": [],
   "source": [
    "sentiment = classifier.predict(X)"
   ]
  },
  {
   "cell_type": "code",
   "execution_count": 16,
   "metadata": {},
   "outputs": [],
   "source": [
    "df = pd.DataFrame(sentiment, columns=['Sentiment'])"
   ]
  },
  {
   "cell_type": "code",
   "execution_count": 17,
   "metadata": {},
   "outputs": [
    {
     "data": {
      "text/plain": [
       "0    111\n",
       "1     89\n",
       "Name: Sentiment, dtype: int64"
      ]
     },
     "execution_count": 17,
     "metadata": {},
     "output_type": "execute_result"
    }
   ],
   "source": [
    "df['Sentiment'].value_counts()"
   ]
  },
  {
   "cell_type": "code",
   "execution_count": 44,
   "metadata": {},
   "outputs": [],
   "source": [
    "dummy = pd.get_dummies(df['Sentiment'])"
   ]
  },
  {
   "cell_type": "code",
   "execution_count": 45,
   "metadata": {},
   "outputs": [],
   "source": [
    "dummy.columns = ['Negative', 'Positive']"
   ]
  },
  {
   "cell_type": "code",
   "execution_count": 60,
   "metadata": {},
   "outputs": [
    {
     "data": {
      "text/plain": [
       "Negative    111\n",
       "Positive     89\n",
       "dtype: int64"
      ]
     },
     "execution_count": 60,
     "metadata": {},
     "output_type": "execute_result"
    }
   ],
   "source": [
    "dummy.sum()"
   ]
  },
  {
   "cell_type": "code",
   "execution_count": 59,
   "metadata": {},
   "outputs": [
    {
     "data": {
      "text/plain": [
       "<matplotlib.axes._subplots.AxesSubplot at 0x1a220afb70>"
      ]
     },
     "execution_count": 59,
     "metadata": {},
     "output_type": "execute_result"
    },
    {
     "data": {
      "image/png": "[encoded data removed]",
      "text/plain": [
       "<Figure size 864x432 with 1 Axes>"
      ]
     },
     "metadata": {},
     "output_type": "display_data"
    }
   ],
   "source": [
    "plt.figure(figsize=(12, 6))\n",
    "plt.title('Number of Negative and Positive Tweets')\n",
    "dummy.sum().plot(kind='bar')"
   ]
  },
  {
   "cell_type": "code",
   "execution_count": null,
   "metadata": {},
   "outputs": [],
   "source": []
  }
 ],
 "metadata": {
  "kernelspec": {
   "display_name": "Python 3",
   "language": "python",
   "name": "python3"
  },
  "language_info": {
   "codemirror_mode": {
    "name": "ipython",
    "version": 3
   },
   "file_extension": ".py",
   "mimetype": "text/x-python",
   "name": "python",
   "nbconvert_exporter": "python",
   "pygments_lexer": "ipython3",
   "version": "3.6.6"
  }
 },
 "nbformat": 4,
 "nbformat_minor": 2
}
